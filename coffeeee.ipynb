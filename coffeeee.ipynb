{
 "cells": [
  {
   "cell_type": "code",
   "execution_count": 1,
   "id": "bed96077-86a8-42ae-a0d8-1eafdac86fd2",
   "metadata": {},
   "outputs": [],
   "source": [
    "import pandas as pd \n",
    "import numpy as np\n",
    "import warnings\n",
    "warnings.simplefilter(\"ignore\")\n",
    "import matplotlib.pyplot as plt\n",
    "import seaborn as sns\n"
   ]
  },
  {
   "cell_type": "code",
   "execution_count": 2,
   "id": "e7b66d3c-c39c-4452-b19e-fa4248b4e951",
   "metadata": {},
   "outputs": [
    {
     "data": {
      "text/html": [
       "<div>\n",
       "<style scoped>\n",
       "    .dataframe tbody tr th:only-of-type {\n",
       "        vertical-align: middle;\n",
       "    }\n",
       "\n",
       "    .dataframe tbody tr th {\n",
       "        vertical-align: top;\n",
       "    }\n",
       "\n",
       "    .dataframe thead th {\n",
       "        text-align: right;\n",
       "    }\n",
       "</style>\n",
       "<table border=\"1\" class=\"dataframe\">\n",
       "  <thead>\n",
       "    <tr style=\"text-align: right;\">\n",
       "      <th></th>\n",
       "      <th>Number_of_Customers_Per_Day</th>\n",
       "      <th>Average_Order_Value</th>\n",
       "      <th>Operating_Hours_Per_Day</th>\n",
       "      <th>Number_of_Employees</th>\n",
       "      <th>Marketing_Spend_Per_Day</th>\n",
       "      <th>Location_Foot_Traffic</th>\n",
       "      <th>Daily_Revenue</th>\n",
       "    </tr>\n",
       "  </thead>\n",
       "  <tbody>\n",
       "    <tr>\n",
       "      <th>0</th>\n",
       "      <td>152</td>\n",
       "      <td>6.74</td>\n",
       "      <td>14</td>\n",
       "      <td>4</td>\n",
       "      <td>106.62</td>\n",
       "      <td>97</td>\n",
       "      <td>1547.81</td>\n",
       "    </tr>\n",
       "    <tr>\n",
       "      <th>1</th>\n",
       "      <td>485</td>\n",
       "      <td>4.50</td>\n",
       "      <td>12</td>\n",
       "      <td>8</td>\n",
       "      <td>57.83</td>\n",
       "      <td>744</td>\n",
       "      <td>2084.68</td>\n",
       "    </tr>\n",
       "    <tr>\n",
       "      <th>2</th>\n",
       "      <td>398</td>\n",
       "      <td>9.09</td>\n",
       "      <td>6</td>\n",
       "      <td>6</td>\n",
       "      <td>91.76</td>\n",
       "      <td>636</td>\n",
       "      <td>3118.39</td>\n",
       "    </tr>\n",
       "    <tr>\n",
       "      <th>3</th>\n",
       "      <td>320</td>\n",
       "      <td>8.48</td>\n",
       "      <td>17</td>\n",
       "      <td>4</td>\n",
       "      <td>462.63</td>\n",
       "      <td>770</td>\n",
       "      <td>2912.20</td>\n",
       "    </tr>\n",
       "    <tr>\n",
       "      <th>4</th>\n",
       "      <td>156</td>\n",
       "      <td>7.44</td>\n",
       "      <td>17</td>\n",
       "      <td>2</td>\n",
       "      <td>412.52</td>\n",
       "      <td>232</td>\n",
       "      <td>1663.42</td>\n",
       "    </tr>\n",
       "    <tr>\n",
       "      <th>...</th>\n",
       "      <td>...</td>\n",
       "      <td>...</td>\n",
       "      <td>...</td>\n",
       "      <td>...</td>\n",
       "      <td>...</td>\n",
       "      <td>...</td>\n",
       "      <td>...</td>\n",
       "    </tr>\n",
       "    <tr>\n",
       "      <th>1995</th>\n",
       "      <td>372</td>\n",
       "      <td>6.41</td>\n",
       "      <td>11</td>\n",
       "      <td>4</td>\n",
       "      <td>466.11</td>\n",
       "      <td>913</td>\n",
       "      <td>2816.85</td>\n",
       "    </tr>\n",
       "    <tr>\n",
       "      <th>1996</th>\n",
       "      <td>105</td>\n",
       "      <td>3.01</td>\n",
       "      <td>11</td>\n",
       "      <td>7</td>\n",
       "      <td>12.62</td>\n",
       "      <td>235</td>\n",
       "      <td>337.97</td>\n",
       "    </tr>\n",
       "    <tr>\n",
       "      <th>1997</th>\n",
       "      <td>89</td>\n",
       "      <td>5.28</td>\n",
       "      <td>16</td>\n",
       "      <td>9</td>\n",
       "      <td>376.64</td>\n",
       "      <td>310</td>\n",
       "      <td>951.34</td>\n",
       "    </tr>\n",
       "    <tr>\n",
       "      <th>1998</th>\n",
       "      <td>403</td>\n",
       "      <td>9.41</td>\n",
       "      <td>7</td>\n",
       "      <td>12</td>\n",
       "      <td>452.49</td>\n",
       "      <td>577</td>\n",
       "      <td>4266.21</td>\n",
       "    </tr>\n",
       "    <tr>\n",
       "      <th>1999</th>\n",
       "      <td>89</td>\n",
       "      <td>6.88</td>\n",
       "      <td>13</td>\n",
       "      <td>14</td>\n",
       "      <td>78.46</td>\n",
       "      <td>322</td>\n",
       "      <td>914.24</td>\n",
       "    </tr>\n",
       "  </tbody>\n",
       "</table>\n",
       "<p>2000 rows × 7 columns</p>\n",
       "</div>"
      ],
      "text/plain": [
       "      Number_of_Customers_Per_Day  Average_Order_Value  \\\n",
       "0                             152                 6.74   \n",
       "1                             485                 4.50   \n",
       "2                             398                 9.09   \n",
       "3                             320                 8.48   \n",
       "4                             156                 7.44   \n",
       "...                           ...                  ...   \n",
       "1995                          372                 6.41   \n",
       "1996                          105                 3.01   \n",
       "1997                           89                 5.28   \n",
       "1998                          403                 9.41   \n",
       "1999                           89                 6.88   \n",
       "\n",
       "      Operating_Hours_Per_Day  Number_of_Employees  Marketing_Spend_Per_Day  \\\n",
       "0                          14                    4                   106.62   \n",
       "1                          12                    8                    57.83   \n",
       "2                           6                    6                    91.76   \n",
       "3                          17                    4                   462.63   \n",
       "4                          17                    2                   412.52   \n",
       "...                       ...                  ...                      ...   \n",
       "1995                       11                    4                   466.11   \n",
       "1996                       11                    7                    12.62   \n",
       "1997                       16                    9                   376.64   \n",
       "1998                        7                   12                   452.49   \n",
       "1999                       13                   14                    78.46   \n",
       "\n",
       "      Location_Foot_Traffic  Daily_Revenue  \n",
       "0                        97        1547.81  \n",
       "1                       744        2084.68  \n",
       "2                       636        3118.39  \n",
       "3                       770        2912.20  \n",
       "4                       232        1663.42  \n",
       "...                     ...            ...  \n",
       "1995                    913        2816.85  \n",
       "1996                    235         337.97  \n",
       "1997                    310         951.34  \n",
       "1998                    577        4266.21  \n",
       "1999                    322         914.24  \n",
       "\n",
       "[2000 rows x 7 columns]"
      ]
     },
     "execution_count": 2,
     "metadata": {},
     "output_type": "execute_result"
    }
   ],
   "source": [
    "df=pd.read_csv(r\"C:\\Users\\Pinky\\Downloads\\coffee_shop_revenue.csv\")\n",
    "df"
   ]
  },
  {
   "cell_type": "code",
   "execution_count": 3,
   "id": "a4cbc765-92eb-43bb-9d29-975b9712834b",
   "metadata": {},
   "outputs": [
    {
     "data": {
      "text/plain": [
       "441"
      ]
     },
     "execution_count": 3,
     "metadata": {},
     "output_type": "execute_result"
    }
   ],
   "source": [
    "df[\"Number_of_Customers_Per_Day\"].nunique()"
   ]
  },
  {
   "cell_type": "code",
   "execution_count": 4,
   "id": "c4a78857-0ce7-47df-9448-1fa28df9c8be",
   "metadata": {},
   "outputs": [
    {
     "data": {
      "text/plain": [
       "694"
      ]
     },
     "execution_count": 4,
     "metadata": {},
     "output_type": "execute_result"
    }
   ],
   "source": [
    "df[\"Average_Order_Value\"].nunique()"
   ]
  },
  {
   "cell_type": "code",
   "execution_count": 5,
   "id": "0884d29b-41d0-4103-9e4c-4c17fd6f26ca",
   "metadata": {},
   "outputs": [
    {
     "data": {
      "text/plain": [
       "12"
      ]
     },
     "execution_count": 5,
     "metadata": {},
     "output_type": "execute_result"
    }
   ],
   "source": [
    "df[\"Operating_Hours_Per_Day\"].nunique()"
   ]
  },
  {
   "cell_type": "code",
   "execution_count": 6,
   "id": "68a8e073-64d6-443d-a6a5-78f9453bc194",
   "metadata": {},
   "outputs": [
    {
     "data": {
      "text/plain": [
       "13"
      ]
     },
     "execution_count": 6,
     "metadata": {},
     "output_type": "execute_result"
    }
   ],
   "source": [
    "df[\"Number_of_Employees\"].nunique()"
   ]
  },
  {
   "cell_type": "code",
   "execution_count": 7,
   "id": "3c6f011c-5473-4d0e-81a2-3b4c1e63d1d9",
   "metadata": {},
   "outputs": [
    {
     "name": "stdout",
     "output_type": "stream",
     "text": [
      "<class 'pandas.core.frame.DataFrame'>\n",
      "RangeIndex: 2000 entries, 0 to 1999\n",
      "Data columns (total 7 columns):\n",
      " #   Column                       Non-Null Count  Dtype  \n",
      "---  ------                       --------------  -----  \n",
      " 0   Number_of_Customers_Per_Day  2000 non-null   int64  \n",
      " 1   Average_Order_Value          2000 non-null   float64\n",
      " 2   Operating_Hours_Per_Day      2000 non-null   int64  \n",
      " 3   Number_of_Employees          2000 non-null   int64  \n",
      " 4   Marketing_Spend_Per_Day      2000 non-null   float64\n",
      " 5   Location_Foot_Traffic        2000 non-null   int64  \n",
      " 6   Daily_Revenue                2000 non-null   float64\n",
      "dtypes: float64(3), int64(4)\n",
      "memory usage: 109.5 KB\n"
     ]
    }
   ],
   "source": [
    "df.info()"
   ]
  },
  {
   "cell_type": "code",
   "execution_count": 8,
   "id": "50429993-46a2-4f09-abda-894b648e6d90",
   "metadata": {},
   "outputs": [
    {
     "data": {
      "text/plain": [
       "['Number_of_Customers_Per_Day',\n",
       " 'Average_Order_Value',\n",
       " 'Operating_Hours_Per_Day',\n",
       " 'Number_of_Employees',\n",
       " 'Marketing_Spend_Per_Day',\n",
       " 'Location_Foot_Traffic',\n",
       " 'Daily_Revenue']"
      ]
     },
     "execution_count": 8,
     "metadata": {},
     "output_type": "execute_result"
    }
   ],
   "source": [
    "df.columns.tolist()"
   ]
  },
  {
   "cell_type": "code",
   "execution_count": 9,
   "id": "4052dbb5-241f-4a29-b7bc-2a4ad4f4ef2a",
   "metadata": {},
   "outputs": [
    {
     "data": {
      "text/plain": [
       "13"
      ]
     },
     "execution_count": 9,
     "metadata": {},
     "output_type": "execute_result"
    }
   ],
   "source": [
    "df['Number_of_Employees'].nunique()"
   ]
  },
  {
   "cell_type": "code",
   "execution_count": 10,
   "id": "9380a978-6f72-40eb-bbd7-7bd48f114df7",
   "metadata": {},
   "outputs": [
    {
     "data": {
      "text/plain": [
       "0"
      ]
     },
     "execution_count": 10,
     "metadata": {},
     "output_type": "execute_result"
    }
   ],
   "source": [
    "df.duplicated().sum()"
   ]
  },
  {
   "cell_type": "code",
   "execution_count": 11,
   "id": "e42feacc-2f24-408d-af97-64f1c7dd5cbd",
   "metadata": {},
   "outputs": [],
   "source": [
    "continous=['Number_of_Customers_Per_Day','Average_Order_Value','Marketing_Spend_Per_Day','Location_Foot_Traffic',\"Daily_Revenue\"]"
   ]
  },
  {
   "cell_type": "code",
   "execution_count": 12,
   "id": "d06ac225-c3bd-4c60-aa15-011abde13d40",
   "metadata": {},
   "outputs": [],
   "source": [
    "discreate_count=['Operating_Hours_Per_Day','Number_of_Employees']"
   ]
  },
  {
   "cell_type": "code",
   "execution_count": 13,
   "id": "0f49ee40-1b56-420d-8acb-83020e601f7b",
   "metadata": {},
   "outputs": [
    {
     "data": {
      "text/html": [
       "<div>\n",
       "<style scoped>\n",
       "    .dataframe tbody tr th:only-of-type {\n",
       "        vertical-align: middle;\n",
       "    }\n",
       "\n",
       "    .dataframe tbody tr th {\n",
       "        vertical-align: top;\n",
       "    }\n",
       "\n",
       "    .dataframe thead th {\n",
       "        text-align: right;\n",
       "    }\n",
       "</style>\n",
       "<table border=\"1\" class=\"dataframe\">\n",
       "  <thead>\n",
       "    <tr style=\"text-align: right;\">\n",
       "      <th></th>\n",
       "      <th>Number_of_Customers_Per_Day</th>\n",
       "      <th>Average_Order_Value</th>\n",
       "      <th>Marketing_Spend_Per_Day</th>\n",
       "      <th>Location_Foot_Traffic</th>\n",
       "      <th>Daily_Revenue</th>\n",
       "    </tr>\n",
       "  </thead>\n",
       "  <tbody>\n",
       "    <tr>\n",
       "      <th>count</th>\n",
       "      <td>2000.000000</td>\n",
       "      <td>2000.000000</td>\n",
       "      <td>2000.000000</td>\n",
       "      <td>2000.000000</td>\n",
       "      <td>2000.000000</td>\n",
       "    </tr>\n",
       "    <tr>\n",
       "      <th>mean</th>\n",
       "      <td>274.296000</td>\n",
       "      <td>6.261215</td>\n",
       "      <td>252.614160</td>\n",
       "      <td>534.893500</td>\n",
       "      <td>1917.325940</td>\n",
       "    </tr>\n",
       "    <tr>\n",
       "      <th>std</th>\n",
       "      <td>129.441933</td>\n",
       "      <td>2.175832</td>\n",
       "      <td>141.136004</td>\n",
       "      <td>271.662295</td>\n",
       "      <td>976.202746</td>\n",
       "    </tr>\n",
       "    <tr>\n",
       "      <th>min</th>\n",
       "      <td>50.000000</td>\n",
       "      <td>2.500000</td>\n",
       "      <td>10.120000</td>\n",
       "      <td>50.000000</td>\n",
       "      <td>-58.950000</td>\n",
       "    </tr>\n",
       "    <tr>\n",
       "      <th>25%</th>\n",
       "      <td>164.000000</td>\n",
       "      <td>4.410000</td>\n",
       "      <td>130.125000</td>\n",
       "      <td>302.000000</td>\n",
       "      <td>1140.085000</td>\n",
       "    </tr>\n",
       "    <tr>\n",
       "      <th>50%</th>\n",
       "      <td>275.000000</td>\n",
       "      <td>6.300000</td>\n",
       "      <td>250.995000</td>\n",
       "      <td>540.000000</td>\n",
       "      <td>1770.775000</td>\n",
       "    </tr>\n",
       "    <tr>\n",
       "      <th>75%</th>\n",
       "      <td>386.000000</td>\n",
       "      <td>8.120000</td>\n",
       "      <td>375.352500</td>\n",
       "      <td>767.000000</td>\n",
       "      <td>2530.455000</td>\n",
       "    </tr>\n",
       "    <tr>\n",
       "      <th>max</th>\n",
       "      <td>499.000000</td>\n",
       "      <td>10.000000</td>\n",
       "      <td>499.740000</td>\n",
       "      <td>999.000000</td>\n",
       "      <td>5114.600000</td>\n",
       "    </tr>\n",
       "  </tbody>\n",
       "</table>\n",
       "</div>"
      ],
      "text/plain": [
       "       Number_of_Customers_Per_Day  Average_Order_Value  \\\n",
       "count                  2000.000000          2000.000000   \n",
       "mean                    274.296000             6.261215   \n",
       "std                     129.441933             2.175832   \n",
       "min                      50.000000             2.500000   \n",
       "25%                     164.000000             4.410000   \n",
       "50%                     275.000000             6.300000   \n",
       "75%                     386.000000             8.120000   \n",
       "max                     499.000000            10.000000   \n",
       "\n",
       "       Marketing_Spend_Per_Day  Location_Foot_Traffic  Daily_Revenue  \n",
       "count              2000.000000            2000.000000    2000.000000  \n",
       "mean                252.614160             534.893500    1917.325940  \n",
       "std                 141.136004             271.662295     976.202746  \n",
       "min                  10.120000              50.000000     -58.950000  \n",
       "25%                 130.125000             302.000000    1140.085000  \n",
       "50%                 250.995000             540.000000    1770.775000  \n",
       "75%                 375.352500             767.000000    2530.455000  \n",
       "max                 499.740000             999.000000    5114.600000  "
      ]
     },
     "execution_count": 13,
     "metadata": {},
     "output_type": "execute_result"
    }
   ],
   "source": [
    "df[continous].describe()"
   ]
  },
  {
   "cell_type": "code",
   "execution_count": 14,
   "id": "029bf0bb-09cb-4540-83df-d6335e9fbf8c",
   "metadata": {},
   "outputs": [
    {
     "name": "stdout",
     "output_type": "stream",
     "text": [
      "      Number_of_Customers_Per_Day  Average_Order_Value  \\\n",
      "1751                           66                 3.64   \n",
      "\n",
      "      Operating_Hours_Per_Day  Number_of_Employees  Marketing_Spend_Per_Day  \\\n",
      "1751                        9                    2                    16.26   \n",
      "\n",
      "      Location_Foot_Traffic  Daily_Revenue  \n",
      "1751                    497         -58.95  \n"
     ]
    }
   ],
   "source": [
    "print(df[df['Daily_Revenue'] < 0])"
   ]
  },
  {
   "cell_type": "code",
   "execution_count": 15,
   "id": "8561ae83-05ba-41ea-9d12-169ce5d4048a",
   "metadata": {},
   "outputs": [
    {
     "data": {
      "text/plain": [
       "Number_of_Customers_Per_Day     66.00\n",
       "Average_Order_Value              3.64\n",
       "Operating_Hours_Per_Day          9.00\n",
       "Number_of_Employees              2.00\n",
       "Marketing_Spend_Per_Day         16.26\n",
       "Location_Foot_Traffic          497.00\n",
       "Daily_Revenue                  -58.95\n",
       "Name: 1751, dtype: float64"
      ]
     },
     "execution_count": 15,
     "metadata": {},
     "output_type": "execute_result"
    }
   ],
   "source": [
    "df.iloc[1751]"
   ]
  },
  {
   "cell_type": "code",
   "execution_count": 16,
   "id": "94c7e16f-f4e5-4032-8bdc-16d0ba484f0d",
   "metadata": {},
   "outputs": [],
   "source": [
    "df = df.drop(index=1751)"
   ]
  },
  {
   "cell_type": "code",
   "execution_count": 17,
   "id": "47fcabb5-c0e0-4fa8-86fd-b4af460b47b8",
   "metadata": {},
   "outputs": [
    {
     "data": {
      "text/html": [
       "<div>\n",
       "<style scoped>\n",
       "    .dataframe tbody tr th:only-of-type {\n",
       "        vertical-align: middle;\n",
       "    }\n",
       "\n",
       "    .dataframe tbody tr th {\n",
       "        vertical-align: top;\n",
       "    }\n",
       "\n",
       "    .dataframe thead th {\n",
       "        text-align: right;\n",
       "    }\n",
       "</style>\n",
       "<table border=\"1\" class=\"dataframe\">\n",
       "  <thead>\n",
       "    <tr style=\"text-align: right;\">\n",
       "      <th></th>\n",
       "      <th>Number_of_Customers_Per_Day</th>\n",
       "      <th>Average_Order_Value</th>\n",
       "      <th>Operating_Hours_Per_Day</th>\n",
       "      <th>Number_of_Employees</th>\n",
       "      <th>Marketing_Spend_Per_Day</th>\n",
       "      <th>Location_Foot_Traffic</th>\n",
       "      <th>Daily_Revenue</th>\n",
       "    </tr>\n",
       "  </thead>\n",
       "  <tbody>\n",
       "    <tr>\n",
       "      <th>0</th>\n",
       "      <td>152</td>\n",
       "      <td>6.74</td>\n",
       "      <td>14</td>\n",
       "      <td>4</td>\n",
       "      <td>106.62</td>\n",
       "      <td>97</td>\n",
       "      <td>1547.81</td>\n",
       "    </tr>\n",
       "    <tr>\n",
       "      <th>1</th>\n",
       "      <td>485</td>\n",
       "      <td>4.50</td>\n",
       "      <td>12</td>\n",
       "      <td>8</td>\n",
       "      <td>57.83</td>\n",
       "      <td>744</td>\n",
       "      <td>2084.68</td>\n",
       "    </tr>\n",
       "    <tr>\n",
       "      <th>2</th>\n",
       "      <td>398</td>\n",
       "      <td>9.09</td>\n",
       "      <td>6</td>\n",
       "      <td>6</td>\n",
       "      <td>91.76</td>\n",
       "      <td>636</td>\n",
       "      <td>3118.39</td>\n",
       "    </tr>\n",
       "    <tr>\n",
       "      <th>3</th>\n",
       "      <td>320</td>\n",
       "      <td>8.48</td>\n",
       "      <td>17</td>\n",
       "      <td>4</td>\n",
       "      <td>462.63</td>\n",
       "      <td>770</td>\n",
       "      <td>2912.20</td>\n",
       "    </tr>\n",
       "    <tr>\n",
       "      <th>4</th>\n",
       "      <td>156</td>\n",
       "      <td>7.44</td>\n",
       "      <td>17</td>\n",
       "      <td>2</td>\n",
       "      <td>412.52</td>\n",
       "      <td>232</td>\n",
       "      <td>1663.42</td>\n",
       "    </tr>\n",
       "    <tr>\n",
       "      <th>...</th>\n",
       "      <td>...</td>\n",
       "      <td>...</td>\n",
       "      <td>...</td>\n",
       "      <td>...</td>\n",
       "      <td>...</td>\n",
       "      <td>...</td>\n",
       "      <td>...</td>\n",
       "    </tr>\n",
       "    <tr>\n",
       "      <th>1995</th>\n",
       "      <td>372</td>\n",
       "      <td>6.41</td>\n",
       "      <td>11</td>\n",
       "      <td>4</td>\n",
       "      <td>466.11</td>\n",
       "      <td>913</td>\n",
       "      <td>2816.85</td>\n",
       "    </tr>\n",
       "    <tr>\n",
       "      <th>1996</th>\n",
       "      <td>105</td>\n",
       "      <td>3.01</td>\n",
       "      <td>11</td>\n",
       "      <td>7</td>\n",
       "      <td>12.62</td>\n",
       "      <td>235</td>\n",
       "      <td>337.97</td>\n",
       "    </tr>\n",
       "    <tr>\n",
       "      <th>1997</th>\n",
       "      <td>89</td>\n",
       "      <td>5.28</td>\n",
       "      <td>16</td>\n",
       "      <td>9</td>\n",
       "      <td>376.64</td>\n",
       "      <td>310</td>\n",
       "      <td>951.34</td>\n",
       "    </tr>\n",
       "    <tr>\n",
       "      <th>1998</th>\n",
       "      <td>403</td>\n",
       "      <td>9.41</td>\n",
       "      <td>7</td>\n",
       "      <td>12</td>\n",
       "      <td>452.49</td>\n",
       "      <td>577</td>\n",
       "      <td>4266.21</td>\n",
       "    </tr>\n",
       "    <tr>\n",
       "      <th>1999</th>\n",
       "      <td>89</td>\n",
       "      <td>6.88</td>\n",
       "      <td>13</td>\n",
       "      <td>14</td>\n",
       "      <td>78.46</td>\n",
       "      <td>322</td>\n",
       "      <td>914.24</td>\n",
       "    </tr>\n",
       "  </tbody>\n",
       "</table>\n",
       "<p>1999 rows × 7 columns</p>\n",
       "</div>"
      ],
      "text/plain": [
       "      Number_of_Customers_Per_Day  Average_Order_Value  \\\n",
       "0                             152                 6.74   \n",
       "1                             485                 4.50   \n",
       "2                             398                 9.09   \n",
       "3                             320                 8.48   \n",
       "4                             156                 7.44   \n",
       "...                           ...                  ...   \n",
       "1995                          372                 6.41   \n",
       "1996                          105                 3.01   \n",
       "1997                           89                 5.28   \n",
       "1998                          403                 9.41   \n",
       "1999                           89                 6.88   \n",
       "\n",
       "      Operating_Hours_Per_Day  Number_of_Employees  Marketing_Spend_Per_Day  \\\n",
       "0                          14                    4                   106.62   \n",
       "1                          12                    8                    57.83   \n",
       "2                           6                    6                    91.76   \n",
       "3                          17                    4                   462.63   \n",
       "4                          17                    2                   412.52   \n",
       "...                       ...                  ...                      ...   \n",
       "1995                       11                    4                   466.11   \n",
       "1996                       11                    7                    12.62   \n",
       "1997                       16                    9                   376.64   \n",
       "1998                        7                   12                   452.49   \n",
       "1999                       13                   14                    78.46   \n",
       "\n",
       "      Location_Foot_Traffic  Daily_Revenue  \n",
       "0                        97        1547.81  \n",
       "1                       744        2084.68  \n",
       "2                       636        3118.39  \n",
       "3                       770        2912.20  \n",
       "4                       232        1663.42  \n",
       "...                     ...            ...  \n",
       "1995                    913        2816.85  \n",
       "1996                    235         337.97  \n",
       "1997                    310         951.34  \n",
       "1998                    577        4266.21  \n",
       "1999                    322         914.24  \n",
       "\n",
       "[1999 rows x 7 columns]"
      ]
     },
     "execution_count": 17,
     "metadata": {},
     "output_type": "execute_result"
    }
   ],
   "source": [
    "df"
   ]
  },
  {
   "cell_type": "code",
   "execution_count": 18,
   "id": "3b743236-3484-4487-b452-029ba809a60d",
   "metadata": {},
   "outputs": [
    {
     "name": "stdout",
     "output_type": "stream",
     "text": [
      "<class 'pandas.core.frame.DataFrame'>\n",
      "Index: 1999 entries, 0 to 1999\n",
      "Data columns (total 7 columns):\n",
      " #   Column                       Non-Null Count  Dtype  \n",
      "---  ------                       --------------  -----  \n",
      " 0   Number_of_Customers_Per_Day  1999 non-null   int64  \n",
      " 1   Average_Order_Value          1999 non-null   float64\n",
      " 2   Operating_Hours_Per_Day      1999 non-null   int64  \n",
      " 3   Number_of_Employees          1999 non-null   int64  \n",
      " 4   Marketing_Spend_Per_Day      1999 non-null   float64\n",
      " 5   Location_Foot_Traffic        1999 non-null   int64  \n",
      " 6   Daily_Revenue                1999 non-null   float64\n",
      "dtypes: float64(3), int64(4)\n",
      "memory usage: 124.9 KB\n"
     ]
    }
   ],
   "source": [
    "df.info()"
   ]
  },
  {
   "cell_type": "code",
   "execution_count": 19,
   "id": "ceab9364-c347-4c0a-a9c2-bf027dcb445b",
   "metadata": {},
   "outputs": [
    {
     "data": {
      "text/html": [
       "<div>\n",
       "<style scoped>\n",
       "    .dataframe tbody tr th:only-of-type {\n",
       "        vertical-align: middle;\n",
       "    }\n",
       "\n",
       "    .dataframe tbody tr th {\n",
       "        vertical-align: top;\n",
       "    }\n",
       "\n",
       "    .dataframe thead th {\n",
       "        text-align: right;\n",
       "    }\n",
       "</style>\n",
       "<table border=\"1\" class=\"dataframe\">\n",
       "  <thead>\n",
       "    <tr style=\"text-align: right;\">\n",
       "      <th></th>\n",
       "      <th>Number_of_Customers_Per_Day</th>\n",
       "      <th>Average_Order_Value</th>\n",
       "      <th>Marketing_Spend_Per_Day</th>\n",
       "      <th>Location_Foot_Traffic</th>\n",
       "      <th>Daily_Revenue</th>\n",
       "    </tr>\n",
       "  </thead>\n",
       "  <tbody>\n",
       "    <tr>\n",
       "      <th>count</th>\n",
       "      <td>1999.000000</td>\n",
       "      <td>1999.000000</td>\n",
       "      <td>1999.000000</td>\n",
       "      <td>1999.000000</td>\n",
       "      <td>1999.000000</td>\n",
       "    </tr>\n",
       "    <tr>\n",
       "      <th>mean</th>\n",
       "      <td>274.400200</td>\n",
       "      <td>6.262526</td>\n",
       "      <td>252.732396</td>\n",
       "      <td>534.912456</td>\n",
       "      <td>1918.314572</td>\n",
       "    </tr>\n",
       "    <tr>\n",
       "      <th>std</th>\n",
       "      <td>129.390393</td>\n",
       "      <td>2.175586</td>\n",
       "      <td>141.072208</td>\n",
       "      <td>271.728947</td>\n",
       "      <td>975.445026</td>\n",
       "    </tr>\n",
       "    <tr>\n",
       "      <th>min</th>\n",
       "      <td>50.000000</td>\n",
       "      <td>2.500000</td>\n",
       "      <td>10.120000</td>\n",
       "      <td>50.000000</td>\n",
       "      <td>104.600000</td>\n",
       "    </tr>\n",
       "    <tr>\n",
       "      <th>25%</th>\n",
       "      <td>164.000000</td>\n",
       "      <td>4.415000</td>\n",
       "      <td>130.230000</td>\n",
       "      <td>302.000000</td>\n",
       "      <td>1140.755000</td>\n",
       "    </tr>\n",
       "    <tr>\n",
       "      <th>50%</th>\n",
       "      <td>275.000000</td>\n",
       "      <td>6.300000</td>\n",
       "      <td>251.040000</td>\n",
       "      <td>540.000000</td>\n",
       "      <td>1771.630000</td>\n",
       "    </tr>\n",
       "    <tr>\n",
       "      <th>75%</th>\n",
       "      <td>386.000000</td>\n",
       "      <td>8.120000</td>\n",
       "      <td>375.465000</td>\n",
       "      <td>767.000000</td>\n",
       "      <td>2531.350000</td>\n",
       "    </tr>\n",
       "    <tr>\n",
       "      <th>max</th>\n",
       "      <td>499.000000</td>\n",
       "      <td>10.000000</td>\n",
       "      <td>499.740000</td>\n",
       "      <td>999.000000</td>\n",
       "      <td>5114.600000</td>\n",
       "    </tr>\n",
       "  </tbody>\n",
       "</table>\n",
       "</div>"
      ],
      "text/plain": [
       "       Number_of_Customers_Per_Day  Average_Order_Value  \\\n",
       "count                  1999.000000          1999.000000   \n",
       "mean                    274.400200             6.262526   \n",
       "std                     129.390393             2.175586   \n",
       "min                      50.000000             2.500000   \n",
       "25%                     164.000000             4.415000   \n",
       "50%                     275.000000             6.300000   \n",
       "75%                     386.000000             8.120000   \n",
       "max                     499.000000            10.000000   \n",
       "\n",
       "       Marketing_Spend_Per_Day  Location_Foot_Traffic  Daily_Revenue  \n",
       "count              1999.000000            1999.000000    1999.000000  \n",
       "mean                252.732396             534.912456    1918.314572  \n",
       "std                 141.072208             271.728947     975.445026  \n",
       "min                  10.120000              50.000000     104.600000  \n",
       "25%                 130.230000             302.000000    1140.755000  \n",
       "50%                 251.040000             540.000000    1771.630000  \n",
       "75%                 375.465000             767.000000    2531.350000  \n",
       "max                 499.740000             999.000000    5114.600000  "
      ]
     },
     "execution_count": 19,
     "metadata": {},
     "output_type": "execute_result"
    }
   ],
   "source": [
    "df[continous].describe()"
   ]
  },
  {
   "cell_type": "code",
   "execution_count": 20,
   "id": "8b98a94b-de7e-4d08-866d-d5bed1e5ef9e",
   "metadata": {},
   "outputs": [
    {
     "data": {
      "text/html": [
       "<div>\n",
       "<style scoped>\n",
       "    .dataframe tbody tr th:only-of-type {\n",
       "        vertical-align: middle;\n",
       "    }\n",
       "\n",
       "    .dataframe tbody tr th {\n",
       "        vertical-align: top;\n",
       "    }\n",
       "\n",
       "    .dataframe thead th {\n",
       "        text-align: right;\n",
       "    }\n",
       "</style>\n",
       "<table border=\"1\" class=\"dataframe\">\n",
       "  <thead>\n",
       "    <tr style=\"text-align: right;\">\n",
       "      <th></th>\n",
       "      <th>Operating_Hours_Per_Day</th>\n",
       "      <th>Number_of_Employees</th>\n",
       "    </tr>\n",
       "  </thead>\n",
       "  <tbody>\n",
       "    <tr>\n",
       "      <th>count</th>\n",
       "      <td>1999.000000</td>\n",
       "      <td>1999.000000</td>\n",
       "    </tr>\n",
       "    <tr>\n",
       "      <th>mean</th>\n",
       "      <td>11.668334</td>\n",
       "      <td>7.949975</td>\n",
       "    </tr>\n",
       "    <tr>\n",
       "      <th>std</th>\n",
       "      <td>3.438950</td>\n",
       "      <td>3.740788</td>\n",
       "    </tr>\n",
       "    <tr>\n",
       "      <th>min</th>\n",
       "      <td>6.000000</td>\n",
       "      <td>2.000000</td>\n",
       "    </tr>\n",
       "    <tr>\n",
       "      <th>25%</th>\n",
       "      <td>9.000000</td>\n",
       "      <td>5.000000</td>\n",
       "    </tr>\n",
       "    <tr>\n",
       "      <th>50%</th>\n",
       "      <td>12.000000</td>\n",
       "      <td>8.000000</td>\n",
       "    </tr>\n",
       "    <tr>\n",
       "      <th>75%</th>\n",
       "      <td>15.000000</td>\n",
       "      <td>11.000000</td>\n",
       "    </tr>\n",
       "    <tr>\n",
       "      <th>max</th>\n",
       "      <td>17.000000</td>\n",
       "      <td>14.000000</td>\n",
       "    </tr>\n",
       "  </tbody>\n",
       "</table>\n",
       "</div>"
      ],
      "text/plain": [
       "       Operating_Hours_Per_Day  Number_of_Employees\n",
       "count              1999.000000          1999.000000\n",
       "mean                 11.668334             7.949975\n",
       "std                   3.438950             3.740788\n",
       "min                   6.000000             2.000000\n",
       "25%                   9.000000             5.000000\n",
       "50%                  12.000000             8.000000\n",
       "75%                  15.000000            11.000000\n",
       "max                  17.000000            14.000000"
      ]
     },
     "execution_count": 20,
     "metadata": {},
     "output_type": "execute_result"
    }
   ],
   "source": [
    "df[discreate_count].describe()"
   ]
  },
  {
   "cell_type": "code",
   "execution_count": 21,
   "id": "0a0b611e-5dd7-42f1-aa6b-5636aa2fbc62",
   "metadata": {},
   "outputs": [
    {
     "data": {
      "image/png": "[encoded data removed]",
      "text/plain": [
       "<Figure size 640x480 with 1 Axes>"
      ]
     },
     "metadata": {},
     "output_type": "display_data"
    },
    {
     "data": {
      "image/png": "[encoded data removed]",
      "text/plain": [
       "<Figure size 640x480 with 1 Axes>"
      ]
     },
     "metadata": {},
     "output_type": "display_data"
    },
    {
     "data": {
      "image/png": "[encoded data removed]",
      "text/plain": [
       "<Figure size 640x480 with 1 Axes>"
      ]
     },
     "metadata": {},
     "output_type": "display_data"
    },
    {
     "data": {
      "image/png": "[encoded data removed]",
      "text/plain": [
       "<Figure size 640x480 with 1 Axes>"
      ]
     },
     "metadata": {},
     "output_type": "display_data"
    },
    {
     "data": {
      "image/png": "[encoded data removed]",
      "text/plain": [
       "<Figure size 640x480 with 1 Axes>"
      ]
     },
     "metadata": {},
     "output_type": "display_data"
    }
   ],
   "source": [
    "for i in continous:\n",
    "    plt.boxplot(df[i])\n",
    "    plt.show()\n"
   ]
  },
  {
   "cell_type": "code",
   "execution_count": 22,
   "id": "58d4b97c-ac92-4d2c-bd80-32a1491caedf",
   "metadata": {},
   "outputs": [
    {
     "name": "stdout",
     "output_type": "stream",
     "text": [
      "q1 1140.755\n",
      "q3 2531.35\n",
      "iqr 1390.5949999999998\n",
      "ll -945.1374999999998\n",
      "ul 4617.2425\n"
     ]
    }
   ],
   "source": [
    "q1 = df[\"Daily_Revenue\"].quantile(0.25)\n",
    "print(\"q1\",q1)\n",
    "\n",
    "q3 = df[\"Daily_Revenue\"].quantile(0.75)\n",
    "print(\"q3\",q3)\n",
    "\n",
    "iqr = q3-q1\n",
    "print(\"iqr\",iqr)\n",
    "\n",
    "ll=q1-(iqr*1.5)\n",
    "ul=q3+(iqr*1.5)\n",
    "print(\"ll\",ll)\n",
    "print(\"ul\",ul)\n",
    "\n"
   ]
  },
  {
   "cell_type": "code",
   "execution_count": 23,
   "id": "16e93a9e-b9f5-4fc5-9dd6-848eab9a4ec2",
   "metadata": {},
   "outputs": [
    {
     "data": {
      "text/html": [
       "<div>\n",
       "<style scoped>\n",
       "    .dataframe tbody tr th:only-of-type {\n",
       "        vertical-align: middle;\n",
       "    }\n",
       "\n",
       "    .dataframe tbody tr th {\n",
       "        vertical-align: top;\n",
       "    }\n",
       "\n",
       "    .dataframe thead th {\n",
       "        text-align: right;\n",
       "    }\n",
       "</style>\n",
       "<table border=\"1\" class=\"dataframe\">\n",
       "  <thead>\n",
       "    <tr style=\"text-align: right;\">\n",
       "      <th></th>\n",
       "      <th>Number_of_Customers_Per_Day</th>\n",
       "      <th>Average_Order_Value</th>\n",
       "      <th>Operating_Hours_Per_Day</th>\n",
       "      <th>Number_of_Employees</th>\n",
       "      <th>Marketing_Spend_Per_Day</th>\n",
       "      <th>Location_Foot_Traffic</th>\n",
       "      <th>Daily_Revenue</th>\n",
       "    </tr>\n",
       "  </thead>\n",
       "  <tbody>\n",
       "    <tr>\n",
       "      <th>66</th>\n",
       "      <td>416</td>\n",
       "      <td>9.98</td>\n",
       "      <td>17</td>\n",
       "      <td>10</td>\n",
       "      <td>483.07</td>\n",
       "      <td>576</td>\n",
       "      <td>4737.16</td>\n",
       "    </tr>\n",
       "    <tr>\n",
       "      <th>85</th>\n",
       "      <td>451</td>\n",
       "      <td>9.88</td>\n",
       "      <td>15</td>\n",
       "      <td>14</td>\n",
       "      <td>493.23</td>\n",
       "      <td>879</td>\n",
       "      <td>4750.98</td>\n",
       "    </tr>\n",
       "    <tr>\n",
       "      <th>701</th>\n",
       "      <td>494</td>\n",
       "      <td>9.57</td>\n",
       "      <td>13</td>\n",
       "      <td>8</td>\n",
       "      <td>385.76</td>\n",
       "      <td>686</td>\n",
       "      <td>4646.33</td>\n",
       "    </tr>\n",
       "    <tr>\n",
       "      <th>1143</th>\n",
       "      <td>473</td>\n",
       "      <td>9.79</td>\n",
       "      <td>9</td>\n",
       "      <td>14</td>\n",
       "      <td>479.41</td>\n",
       "      <td>303</td>\n",
       "      <td>4756.55</td>\n",
       "    </tr>\n",
       "    <tr>\n",
       "      <th>1171</th>\n",
       "      <td>495</td>\n",
       "      <td>9.95</td>\n",
       "      <td>17</td>\n",
       "      <td>4</td>\n",
       "      <td>11.79</td>\n",
       "      <td>417</td>\n",
       "      <td>4634.73</td>\n",
       "    </tr>\n",
       "    <tr>\n",
       "      <th>1318</th>\n",
       "      <td>484</td>\n",
       "      <td>9.10</td>\n",
       "      <td>17</td>\n",
       "      <td>6</td>\n",
       "      <td>467.00</td>\n",
       "      <td>657</td>\n",
       "      <td>4626.59</td>\n",
       "    </tr>\n",
       "    <tr>\n",
       "      <th>1593</th>\n",
       "      <td>453</td>\n",
       "      <td>9.93</td>\n",
       "      <td>12</td>\n",
       "      <td>7</td>\n",
       "      <td>474.97</td>\n",
       "      <td>563</td>\n",
       "      <td>5114.60</td>\n",
       "    </tr>\n",
       "    <tr>\n",
       "      <th>1719</th>\n",
       "      <td>495</td>\n",
       "      <td>9.63</td>\n",
       "      <td>12</td>\n",
       "      <td>3</td>\n",
       "      <td>356.89</td>\n",
       "      <td>139</td>\n",
       "      <td>4881.00</td>\n",
       "    </tr>\n",
       "    <tr>\n",
       "      <th>1842</th>\n",
       "      <td>465</td>\n",
       "      <td>9.75</td>\n",
       "      <td>10</td>\n",
       "      <td>14</td>\n",
       "      <td>412.11</td>\n",
       "      <td>384</td>\n",
       "      <td>4667.03</td>\n",
       "    </tr>\n",
       "  </tbody>\n",
       "</table>\n",
       "</div>"
      ],
      "text/plain": [
       "      Number_of_Customers_Per_Day  Average_Order_Value  \\\n",
       "66                            416                 9.98   \n",
       "85                            451                 9.88   \n",
       "701                           494                 9.57   \n",
       "1143                          473                 9.79   \n",
       "1171                          495                 9.95   \n",
       "1318                          484                 9.10   \n",
       "1593                          453                 9.93   \n",
       "1719                          495                 9.63   \n",
       "1842                          465                 9.75   \n",
       "\n",
       "      Operating_Hours_Per_Day  Number_of_Employees  Marketing_Spend_Per_Day  \\\n",
       "66                         17                   10                   483.07   \n",
       "85                         15                   14                   493.23   \n",
       "701                        13                    8                   385.76   \n",
       "1143                        9                   14                   479.41   \n",
       "1171                       17                    4                    11.79   \n",
       "1318                       17                    6                   467.00   \n",
       "1593                       12                    7                   474.97   \n",
       "1719                       12                    3                   356.89   \n",
       "1842                       10                   14                   412.11   \n",
       "\n",
       "      Location_Foot_Traffic  Daily_Revenue  \n",
       "66                      576        4737.16  \n",
       "85                      879        4750.98  \n",
       "701                     686        4646.33  \n",
       "1143                    303        4756.55  \n",
       "1171                    417        4634.73  \n",
       "1318                    657        4626.59  \n",
       "1593                    563        5114.60  \n",
       "1719                    139        4881.00  \n",
       "1842                    384        4667.03  "
      ]
     },
     "execution_count": 23,
     "metadata": {},
     "output_type": "execute_result"
    }
   ],
   "source": [
    "df[(df[\"Daily_Revenue\"]<ll) | (df[\"Daily_Revenue\"]>ul)]"
   ]
  },
  {
   "cell_type": "code",
   "execution_count": null,
   "id": "d717ecf4-e09e-4baf-bea7-2b6fce1dec23",
   "metadata": {},
   "outputs": [],
   "source": []
  },
  {
   "cell_type": "code",
   "execution_count": null,
   "id": "75ca5fcc-0871-445c-9617-a3257df10d42",
   "metadata": {},
   "outputs": [],
   "source": []
  },
  {
   "cell_type": "code",
   "execution_count": null,
   "id": "8e9d90c7-8fe4-411a-8c63-b8f006cc149f",
   "metadata": {},
   "outputs": [],
   "source": []
  },
  {
   "cell_type": "code",
   "execution_count": 24,
   "id": "002b5e24-4639-4201-b0c0-101dccfffdf1",
   "metadata": {},
   "outputs": [
    {
     "data": {
      "text/plain": [
       "Number_of_Customers_Per_Day   -0.001058\n",
       "Average_Order_Value           -0.035343\n",
       "Marketing_Spend_Per_Day        0.036707\n",
       "Location_Foot_Traffic         -0.050614\n",
       "Daily_Revenue                  0.637940\n",
       "dtype: float64"
      ]
     },
     "execution_count": 24,
     "metadata": {},
     "output_type": "execute_result"
    }
   ],
   "source": [
    "df[continous].skew()\n"
   ]
  },
  {
   "cell_type": "code",
   "execution_count": 25,
   "id": "754ad2b6-1207-46a2-b0a2-3180eac496e2",
   "metadata": {},
   "outputs": [
    {
     "data": {
      "text/html": [
       "<div>\n",
       "<style scoped>\n",
       "    .dataframe tbody tr th:only-of-type {\n",
       "        vertical-align: middle;\n",
       "    }\n",
       "\n",
       "    .dataframe tbody tr th {\n",
       "        vertical-align: top;\n",
       "    }\n",
       "\n",
       "    .dataframe thead th {\n",
       "        text-align: right;\n",
       "    }\n",
       "</style>\n",
       "<table border=\"1\" class=\"dataframe\">\n",
       "  <thead>\n",
       "    <tr style=\"text-align: right;\">\n",
       "      <th></th>\n",
       "      <th>Number_of_Customers_Per_Day</th>\n",
       "      <th>Average_Order_Value</th>\n",
       "      <th>Marketing_Spend_Per_Day</th>\n",
       "      <th>Location_Foot_Traffic</th>\n",
       "      <th>Daily_Revenue</th>\n",
       "    </tr>\n",
       "  </thead>\n",
       "  <tbody>\n",
       "    <tr>\n",
       "      <th>Number_of_Customers_Per_Day</th>\n",
       "      <td>1.000000</td>\n",
       "      <td>-0.015633</td>\n",
       "      <td>0.025870</td>\n",
       "      <td>-0.000993</td>\n",
       "      <td>0.736062</td>\n",
       "    </tr>\n",
       "    <tr>\n",
       "      <th>Average_Order_Value</th>\n",
       "      <td>-0.015633</td>\n",
       "      <td>1.000000</td>\n",
       "      <td>0.017791</td>\n",
       "      <td>0.018073</td>\n",
       "      <td>0.535217</td>\n",
       "    </tr>\n",
       "    <tr>\n",
       "      <th>Marketing_Spend_Per_Day</th>\n",
       "      <td>0.025870</td>\n",
       "      <td>0.017791</td>\n",
       "      <td>1.000000</td>\n",
       "      <td>-0.012688</td>\n",
       "      <td>0.253554</td>\n",
       "    </tr>\n",
       "    <tr>\n",
       "      <th>Location_Foot_Traffic</th>\n",
       "      <td>-0.000993</td>\n",
       "      <td>0.018073</td>\n",
       "      <td>-0.012688</td>\n",
       "      <td>1.000000</td>\n",
       "      <td>0.013341</td>\n",
       "    </tr>\n",
       "    <tr>\n",
       "      <th>Daily_Revenue</th>\n",
       "      <td>0.736062</td>\n",
       "      <td>0.535217</td>\n",
       "      <td>0.253554</td>\n",
       "      <td>0.013341</td>\n",
       "      <td>1.000000</td>\n",
       "    </tr>\n",
       "  </tbody>\n",
       "</table>\n",
       "</div>"
      ],
      "text/plain": [
       "                             Number_of_Customers_Per_Day  Average_Order_Value  \\\n",
       "Number_of_Customers_Per_Day                     1.000000            -0.015633   \n",
       "Average_Order_Value                            -0.015633             1.000000   \n",
       "Marketing_Spend_Per_Day                         0.025870             0.017791   \n",
       "Location_Foot_Traffic                          -0.000993             0.018073   \n",
       "Daily_Revenue                                   0.736062             0.535217   \n",
       "\n",
       "                             Marketing_Spend_Per_Day  Location_Foot_Traffic  \\\n",
       "Number_of_Customers_Per_Day                 0.025870              -0.000993   \n",
       "Average_Order_Value                         0.017791               0.018073   \n",
       "Marketing_Spend_Per_Day                     1.000000              -0.012688   \n",
       "Location_Foot_Traffic                      -0.012688               1.000000   \n",
       "Daily_Revenue                               0.253554               0.013341   \n",
       "\n",
       "                             Daily_Revenue  \n",
       "Number_of_Customers_Per_Day       0.736062  \n",
       "Average_Order_Value               0.535217  \n",
       "Marketing_Spend_Per_Day           0.253554  \n",
       "Location_Foot_Traffic             0.013341  \n",
       "Daily_Revenue                     1.000000  "
      ]
     },
     "execution_count": 25,
     "metadata": {},
     "output_type": "execute_result"
    }
   ],
   "source": [
    "\n",
    "df[continous].corr()"
   ]
  },
  {
   "cell_type": "code",
   "execution_count": 26,
   "id": "ab467a35-d81f-47c9-936c-bc24b976a45f",
   "metadata": {},
   "outputs": [
    {
     "data": {
      "text/plain": [
       "Index(['Number_of_Customers_Per_Day', 'Average_Order_Value',\n",
       "       'Operating_Hours_Per_Day', 'Number_of_Employees',\n",
       "       'Marketing_Spend_Per_Day', 'Location_Foot_Traffic', 'Daily_Revenue'],\n",
       "      dtype='object')"
      ]
     },
     "execution_count": 26,
     "metadata": {},
     "output_type": "execute_result"
    }
   ],
   "source": [
    "df.columns\n"
   ]
  },
  {
   "cell_type": "code",
   "execution_count": 27,
   "id": "0b2f31e4-0330-460d-b4bc-e0f60b0f3857",
   "metadata": {},
   "outputs": [],
   "source": [
    "df.reset_index(drop=True, inplace=True)"
   ]
  },
  {
   "cell_type": "code",
   "execution_count": 28,
   "id": "d7f54ca5-90e6-4b6c-ad64-dc6e0a2c4e91",
   "metadata": {},
   "outputs": [
    {
     "data": {
      "text/html": [
       "<div>\n",
       "<style scoped>\n",
       "    .dataframe tbody tr th:only-of-type {\n",
       "        vertical-align: middle;\n",
       "    }\n",
       "\n",
       "    .dataframe tbody tr th {\n",
       "        vertical-align: top;\n",
       "    }\n",
       "\n",
       "    .dataframe thead th {\n",
       "        text-align: right;\n",
       "    }\n",
       "</style>\n",
       "<table border=\"1\" class=\"dataframe\">\n",
       "  <thead>\n",
       "    <tr style=\"text-align: right;\">\n",
       "      <th></th>\n",
       "      <th>variables</th>\n",
       "      <th>VIF</th>\n",
       "    </tr>\n",
       "  </thead>\n",
       "  <tbody>\n",
       "    <tr>\n",
       "      <th>0</th>\n",
       "      <td>Number_of_Customers_Per_Day</td>\n",
       "      <td>1.000933</td>\n",
       "    </tr>\n",
       "    <tr>\n",
       "      <th>1</th>\n",
       "      <td>Average_Order_Value</td>\n",
       "      <td>1.001350</td>\n",
       "    </tr>\n",
       "    <tr>\n",
       "      <th>2</th>\n",
       "      <td>Operating_Hours_Per_Day</td>\n",
       "      <td>1.001845</td>\n",
       "    </tr>\n",
       "    <tr>\n",
       "      <th>3</th>\n",
       "      <td>Number_of_Employees</td>\n",
       "      <td>1.003455</td>\n",
       "    </tr>\n",
       "    <tr>\n",
       "      <th>4</th>\n",
       "      <td>Marketing_Spend_Per_Day</td>\n",
       "      <td>1.002172</td>\n",
       "    </tr>\n",
       "    <tr>\n",
       "      <th>5</th>\n",
       "      <td>Location_Foot_Traffic</td>\n",
       "      <td>1.002257</td>\n",
       "    </tr>\n",
       "  </tbody>\n",
       "</table>\n",
       "</div>"
      ],
      "text/plain": [
       "                     variables       VIF\n",
       "0  Number_of_Customers_Per_Day  1.000933\n",
       "1          Average_Order_Value  1.001350\n",
       "2      Operating_Hours_Per_Day  1.001845\n",
       "3          Number_of_Employees  1.003455\n",
       "4      Marketing_Spend_Per_Day  1.002172\n",
       "5        Location_Foot_Traffic  1.002257"
      ]
     },
     "execution_count": 28,
     "metadata": {},
     "output_type": "execute_result"
    }
   ],
   "source": [
    "import statsmodels.formula.api as smf\n",
    "rsq_Number_of_Customers_Per_Day = smf.ols(\"Number_of_Customers_Per_Day~Average_Order_Value+Operating_Hours_Per_Day+Number_of_Employees+Marketing_Spend_Per_Day+Location_Foot_Traffic\",data=df).fit().rsquared\n",
    "vif_Number_of_Customers_Per_Day = 1/(1-rsq_Number_of_Customers_Per_Day)\n",
    "\n",
    "rsq_Average_Order_Value = smf.ols(\"Average_Order_Value~Number_of_Customers_Per_Day+Operating_Hours_Per_Day+Number_of_Employees+Marketing_Spend_Per_Day+Location_Foot_Traffic\",data=df).fit().rsquared\n",
    "vif_Average_Order_Value = 1/(1-rsq_Average_Order_Value)\n",
    "\n",
    "rsq_Operating_Hours_Per_Day = smf.ols(\"Operating_Hours_Per_Day~Number_of_Customers_Per_Day+Average_Order_Value+Number_of_Employees+Marketing_Spend_Per_Day+Location_Foot_Traffic\",data=df).fit().rsquared\n",
    "vif_Operating_Hours_Per_Day = 1/(1-rsq_Operating_Hours_Per_Day)\n",
    "\n",
    "\n",
    "rsq_Number_of_Employees = smf.ols(\"Number_of_Employees~Number_of_Customers_Per_Day+Average_Order_Value+Operating_Hours_Per_Day+Marketing_Spend_Per_Day+Location_Foot_Traffic\",data=df).fit().rsquared\n",
    "vif_Number_of_Employees = 1/(1-rsq_Number_of_Employees)\n",
    "\n",
    "rsq_Marketing_Spend_Per_Day = smf.ols(\"Marketing_Spend_Per_Day~Number_of_Customers_Per_Day+Average_Order_Value+Operating_Hours_Per_Day+Number_of_Employees+Location_Foot_Traffic\",data=df).fit().rsquared\n",
    "vif_Marketing_Spend_Per_Day = 1/(1-rsq_Marketing_Spend_Per_Day)\n",
    "\n",
    "rsq_Location_Foot_Traffic = smf.ols(\"Location_Foot_Traffic~Number_of_Customers_Per_Day+Average_Order_Value+Number_of_Employees+Marketing_Spend_Per_Day+Marketing_Spend_Per_Day\",data=df).fit().rsquared\n",
    "vif_Location_Foot_Traffic = 1/(1-rsq_Location_Foot_Traffic)\n",
    "\n",
    "\n",
    "d1 = {\"variables\" : [\"Number_of_Customers_Per_Day\",\"Average_Order_Value\",\"Operating_Hours_Per_Day\",\"Number_of_Employees\",\"Marketing_Spend_Per_Day\",\"Location_Foot_Traffic\"],\"VIF\" : [vif_Number_of_Customers_Per_Day,vif_Average_Order_Value,vif_Operating_Hours_Per_Day,vif_Number_of_Employees,vif_Marketing_Spend_Per_Day,vif_Location_Foot_Traffic]}\n",
    "vif_frame = pd.DataFrame(d1)\n",
    "vif_frame\n"
   ]
  },
  {
   "cell_type": "code",
   "execution_count": 29,
   "id": "345a6b69-4825-4d64-9a21-194fe9f81680",
   "metadata": {},
   "outputs": [],
   "source": [
    "x=df[[\"Number_of_Customers_Per_Day\",\"Average_Order_Value\",\"Operating_Hours_Per_Day\",\"Number_of_Employees\",\"Marketing_Spend_Per_Day\",\"Location_Foot_Traffic\"]]\n",
    "\n",
    "y=df[\"Daily_Revenue\"]"
   ]
  },
  {
   "cell_type": "code",
   "execution_count": null,
   "id": "f131813f-8394-4fb5-b0a4-3cbb118a7029",
   "metadata": {},
   "outputs": [],
   "source": []
  },
  {
   "cell_type": "code",
   "execution_count": 30,
   "id": "354c0fd5-9fcd-450d-aad7-fa74c0602ee7",
   "metadata": {},
   "outputs": [
    {
     "name": "stdout",
     "output_type": "stream",
     "text": [
      "best random state num  63\n"
     ]
    }
   ],
   "source": [
    "train=[]\n",
    "cv=[]\n",
    "\n",
    "for i in range(0,100):\n",
    "    from sklearn.model_selection import train_test_split\n",
    "    x_train,x_test,y_train,y_test=train_test_split(x,y,test_size=0.2,random_state=i)\n",
    "\n",
    "    from sklearn.linear_model import LinearRegression\n",
    "    model=LinearRegression()\n",
    "    model.fit(x_train,y_train)\n",
    "\n",
    "\n",
    "    ypred_train=model.predict(x_train)\n",
    "\n",
    "\n",
    "    from sklearn.metrics import r2_score\n",
    "    train.append(r2_score(y_train,ypred_train))\n",
    "\n",
    "\n",
    "    from sklearn.model_selection import cross_val_score\n",
    "    cv.append(cross_val_score(model,x_train,y_train,cv=5).mean())\n",
    "\n",
    "\n",
    "em=pd.DataFrame({\"train\":train,\"cv\":cv})\n",
    "gm=em[(abs(em[\"train\"]-em[\"cv\"])<=0.05)]\n",
    "rs=gm[gm[\"cv\"]==gm[\"cv\"].max()].index.tolist()[0]\n",
    "print(\"best random state num \",rs)"
   ]
  },
  {
   "cell_type": "code",
   "execution_count": 31,
   "id": "0b989952-152d-4662-a149-4f3b68cdae72",
   "metadata": {},
   "outputs": [],
   "source": [
    "from sklearn.model_selection import train_test_split\n",
    "x_train,x_test,y_train,y_test = train_test_split(x,y,test_size=0.2,random_state=63)\n"
   ]
  },
  {
   "cell_type": "code",
   "execution_count": null,
   "id": "60cec8ed-49a0-45c5-aa7f-444698d02254",
   "metadata": {},
   "outputs": [],
   "source": []
  },
  {
   "cell_type": "markdown",
   "id": "93aed6bb-82bc-4824-8cd7-3552718c4d17",
   "metadata": {},
   "source": [
    "# Modeling"
   ]
  },
  {
   "cell_type": "code",
   "execution_count": null,
   "id": "9b399b0c-9aae-47e2-8ff6-d7854ba92ae8",
   "metadata": {},
   "outputs": [],
   "source": []
  },
  {
   "cell_type": "code",
   "execution_count": 33,
   "id": "fc579ae1-faf5-4a0e-bee1-b461335a10ef",
   "metadata": {},
   "outputs": [
    {
     "name": "stdout",
     "output_type": "stream",
     "text": [
      "intercept : -1504.5481172157426\n",
      "coefficients : [ 5.62171181e+00  2.40792370e+02 -1.88717649e+00 -1.06695066e+00\n",
      "  1.56605413e+00  2.35854732e-02]\n"
     ]
    }
   ],
   "source": [
    "from sklearn.linear_model import LinearRegression\n",
    "model = LinearRegression()\n",
    "model.fit(x_train,y_train)\n",
    "\n",
    "print(\"intercept :\",model.intercept_)\n",
    "print(\"coefficients :\",model.coef_)\n"
   ]
  },
  {
   "cell_type": "code",
   "execution_count": null,
   "id": "e886735f-c630-492e-bd1a-04ca24852806",
   "metadata": {},
   "outputs": [],
   "source": []
  },
  {
   "cell_type": "code",
   "execution_count": 34,
   "id": "39edb989-d0ef-40b1-aa99-ec98b4182ef4",
   "metadata": {},
   "outputs": [
    {
     "name": "stdout",
     "output_type": "stream",
     "text": [
      "train rmse 315.36557471029874\n",
      "r2 value 0.8964078387998379\n",
      "cv score 0.8945373511611463\n",
      "test r2 0.8687361581506137\n"
     ]
    }
   ],
   "source": [
    "ypred_train=model.predict(x_train)\n",
    "\n",
    "from sklearn.metrics import mean_squared_error\n",
    "print(\"train rmse\",np.sqrt(mean_squared_error(y_train,ypred_train)))\n",
    "\n",
    "from sklearn.metrics import r2_score\n",
    "print(\"r2 value\",r2_score(y_train,ypred_train))\n",
    "\n",
    "from sklearn.model_selection import cross_val_score\n",
    "print(\"cv score\",cross_val_score(model,x_train,y_train,cv=5,scoring=\"r2\").mean())\n",
    "\n",
    "ypred_test = model.predict(x_test)\n",
    "\n",
    "from sklearn.metrics import r2_score\n",
    "print(\"test r2\",r2_score(y_test,ypred_test))"
   ]
  },
  {
   "cell_type": "code",
   "execution_count": null,
   "id": "16c1fb47-83a0-4266-ad25-a21e451b2f0b",
   "metadata": {},
   "outputs": [],
   "source": []
  },
  {
   "cell_type": "code",
   "execution_count": 35,
   "id": "e3c92b10-f062-49e6-a1d7-259900651faa",
   "metadata": {},
   "outputs": [
    {
     "data": {
      "text/html": [
       "<table class=\"simpletable\">\n",
       "<caption>OLS Regression Results</caption>\n",
       "<tr>\n",
       "  <th>Dep. Variable:</th>         <td>y_train</td>     <th>  R-squared:         </th> <td>   0.896</td> \n",
       "</tr>\n",
       "<tr>\n",
       "  <th>Model:</th>                   <td>OLS</td>       <th>  Adj. R-squared:    </th> <td>   0.896</td> \n",
       "</tr>\n",
       "<tr>\n",
       "  <th>Method:</th>             <td>Least Squares</td>  <th>  F-statistic:       </th> <td>   2296.</td> \n",
       "</tr>\n",
       "<tr>\n",
       "  <th>Date:</th>             <td>Fri, 09 May 2025</td> <th>  Prob (F-statistic):</th>  <td>  0.00</td>  \n",
       "</tr>\n",
       "<tr>\n",
       "  <th>Time:</th>                 <td>14:35:54</td>     <th>  Log-Likelihood:    </th> <td> -11469.</td> \n",
       "</tr>\n",
       "<tr>\n",
       "  <th>No. Observations:</th>      <td>  1599</td>      <th>  AIC:               </th> <td>2.295e+04</td>\n",
       "</tr>\n",
       "<tr>\n",
       "  <th>Df Residuals:</th>          <td>  1592</td>      <th>  BIC:               </th> <td>2.299e+04</td>\n",
       "</tr>\n",
       "<tr>\n",
       "  <th>Df Model:</th>              <td>     6</td>      <th>                     </th>     <td> </td>    \n",
       "</tr>\n",
       "<tr>\n",
       "  <th>Covariance Type:</th>      <td>nonrobust</td>    <th>                     </th>     <td> </td>    \n",
       "</tr>\n",
       "</table>\n",
       "<table class=\"simpletable\">\n",
       "<tr>\n",
       "       <td></td>         <th>coef</th>     <th>std err</th>      <th>t</th>      <th>P>|t|</th>  <th>[0.025</th>    <th>0.975]</th>  \n",
       "</tr>\n",
       "<tr>\n",
       "  <th>Intercept</th>  <td>-1504.5481</td> <td>   47.952</td> <td>  -31.376</td> <td> 0.000</td> <td>-1598.604</td> <td>-1410.492</td>\n",
       "</tr>\n",
       "<tr>\n",
       "  <th>x_train[0]</th> <td>    5.6217</td> <td>    0.062</td> <td>   91.190</td> <td> 0.000</td> <td>    5.501</td> <td>    5.743</td>\n",
       "</tr>\n",
       "<tr>\n",
       "  <th>x_train[1]</th> <td>  240.7924</td> <td>    3.659</td> <td>   65.810</td> <td> 0.000</td> <td>  233.616</td> <td>  247.969</td>\n",
       "</tr>\n",
       "<tr>\n",
       "  <th>x_train[2]</th> <td>   -1.8872</td> <td>    2.320</td> <td>   -0.813</td> <td> 0.416</td> <td>   -6.439</td> <td>    2.664</td>\n",
       "</tr>\n",
       "<tr>\n",
       "  <th>x_train[3]</th> <td>   -1.0670</td> <td>    2.128</td> <td>   -0.501</td> <td> 0.616</td> <td>   -5.242</td> <td>    3.108</td>\n",
       "</tr>\n",
       "<tr>\n",
       "  <th>x_train[4]</th> <td>    1.5661</td> <td>    0.056</td> <td>   27.981</td> <td> 0.000</td> <td>    1.456</td> <td>    1.676</td>\n",
       "</tr>\n",
       "<tr>\n",
       "  <th>x_train[5]</th> <td>    0.0236</td> <td>    0.029</td> <td>    0.809</td> <td> 0.419</td> <td>   -0.034</td> <td>    0.081</td>\n",
       "</tr>\n",
       "</table>\n",
       "<table class=\"simpletable\">\n",
       "<tr>\n",
       "  <th>Omnibus:</th>       <td> 1.365</td> <th>  Durbin-Watson:     </th> <td>   1.971</td>\n",
       "</tr>\n",
       "<tr>\n",
       "  <th>Prob(Omnibus):</th> <td> 0.505</td> <th>  Jarque-Bera (JB):  </th> <td>   1.300</td>\n",
       "</tr>\n",
       "<tr>\n",
       "  <th>Skew:</th>          <td>-0.016</td> <th>  Prob(JB):          </th> <td>   0.522</td>\n",
       "</tr>\n",
       "<tr>\n",
       "  <th>Kurtosis:</th>      <td> 3.136</td> <th>  Cond. No.          </th> <td>4.21e+03</td>\n",
       "</tr>\n",
       "</table><br/><br/>Notes:<br/>[1] Standard Errors assume that the covariance matrix of the errors is correctly specified.<br/>[2] The condition number is large, 4.21e+03. This might indicate that there are<br/>strong multicollinearity or other numerical problems."
      ],
      "text/latex": [
       "\\begin{center}\n",
       "\\begin{tabular}{lclc}\n",
       "\\toprule\n",
       "\\textbf{Dep. Variable:}    &     y\\_train     & \\textbf{  R-squared:         } &     0.896   \\\\\n",
       "\\textbf{Model:}            &       OLS        & \\textbf{  Adj. R-squared:    } &     0.896   \\\\\n",
       "\\textbf{Method:}           &  Least Squares   & \\textbf{  F-statistic:       } &     2296.   \\\\\n",
       "\\textbf{Date:}             & Fri, 09 May 2025 & \\textbf{  Prob (F-statistic):} &     0.00    \\\\\n",
       "\\textbf{Time:}             &     14:35:54     & \\textbf{  Log-Likelihood:    } &   -11469.   \\\\\n",
       "\\textbf{No. Observations:} &        1599      & \\textbf{  AIC:               } & 2.295e+04   \\\\\n",
       "\\textbf{Df Residuals:}     &        1592      & \\textbf{  BIC:               } & 2.299e+04   \\\\\n",
       "\\textbf{Df Model:}         &           6      & \\textbf{                     } &             \\\\\n",
       "\\textbf{Covariance Type:}  &    nonrobust     & \\textbf{                     } &             \\\\\n",
       "\\bottomrule\n",
       "\\end{tabular}\n",
       "\\begin{tabular}{lcccccc}\n",
       "                     & \\textbf{coef} & \\textbf{std err} & \\textbf{t} & \\textbf{P$> |$t$|$} & \\textbf{[0.025} & \\textbf{0.975]}  \\\\\n",
       "\\midrule\n",
       "\\textbf{Intercept}   &   -1504.5481  &       47.952     &   -31.376  &         0.000        &    -1598.604    &    -1410.492     \\\\\n",
       "\\textbf{x\\_train[0]} &       5.6217  &        0.062     &    91.190  &         0.000        &        5.501    &        5.743     \\\\\n",
       "\\textbf{x\\_train[1]} &     240.7924  &        3.659     &    65.810  &         0.000        &      233.616    &      247.969     \\\\\n",
       "\\textbf{x\\_train[2]} &      -1.8872  &        2.320     &    -0.813  &         0.416        &       -6.439    &        2.664     \\\\\n",
       "\\textbf{x\\_train[3]} &      -1.0670  &        2.128     &    -0.501  &         0.616        &       -5.242    &        3.108     \\\\\n",
       "\\textbf{x\\_train[4]} &       1.5661  &        0.056     &    27.981  &         0.000        &        1.456    &        1.676     \\\\\n",
       "\\textbf{x\\_train[5]} &       0.0236  &        0.029     &     0.809  &         0.419        &       -0.034    &        0.081     \\\\\n",
       "\\bottomrule\n",
       "\\end{tabular}\n",
       "\\begin{tabular}{lclc}\n",
       "\\textbf{Omnibus:}       &  1.365 & \\textbf{  Durbin-Watson:     } &    1.971  \\\\\n",
       "\\textbf{Prob(Omnibus):} &  0.505 & \\textbf{  Jarque-Bera (JB):  } &    1.300  \\\\\n",
       "\\textbf{Skew:}          & -0.016 & \\textbf{  Prob(JB):          } &    0.522  \\\\\n",
       "\\textbf{Kurtosis:}      &  3.136 & \\textbf{  Cond. No.          } & 4.21e+03  \\\\\n",
       "\\bottomrule\n",
       "\\end{tabular}\n",
       "%\\caption{OLS Regression Results}\n",
       "\\end{center}\n",
       "\n",
       "Notes: \\newline\n",
       " [1] Standard Errors assume that the covariance matrix of the errors is correctly specified. \\newline\n",
       " [2] The condition number is large, 4.21e+03. This might indicate that there are \\newline\n",
       " strong multicollinearity or other numerical problems."
      ],
      "text/plain": [
       "<class 'statsmodels.iolib.summary.Summary'>\n",
       "\"\"\"\n",
       "                            OLS Regression Results                            \n",
       "==============================================================================\n",
       "Dep. Variable:                y_train   R-squared:                       0.896\n",
       "Model:                            OLS   Adj. R-squared:                  0.896\n",
       "Method:                 Least Squares   F-statistic:                     2296.\n",
       "Date:                Fri, 09 May 2025   Prob (F-statistic):               0.00\n",
       "Time:                        14:35:54   Log-Likelihood:                -11469.\n",
       "No. Observations:                1599   AIC:                         2.295e+04\n",
       "Df Residuals:                    1592   BIC:                         2.299e+04\n",
       "Df Model:                           6                                         \n",
       "Covariance Type:            nonrobust                                         \n",
       "==============================================================================\n",
       "                 coef    std err          t      P>|t|      [0.025      0.975]\n",
       "------------------------------------------------------------------------------\n",
       "Intercept  -1504.5481     47.952    -31.376      0.000   -1598.604   -1410.492\n",
       "x_train[0]     5.6217      0.062     91.190      0.000       5.501       5.743\n",
       "x_train[1]   240.7924      3.659     65.810      0.000     233.616     247.969\n",
       "x_train[2]    -1.8872      2.320     -0.813      0.416      -6.439       2.664\n",
       "x_train[3]    -1.0670      2.128     -0.501      0.616      -5.242       3.108\n",
       "x_train[4]     1.5661      0.056     27.981      0.000       1.456       1.676\n",
       "x_train[5]     0.0236      0.029      0.809      0.419      -0.034       0.081\n",
       "==============================================================================\n",
       "Omnibus:                        1.365   Durbin-Watson:                   1.971\n",
       "Prob(Omnibus):                  0.505   Jarque-Bera (JB):                1.300\n",
       "Skew:                          -0.016   Prob(JB):                        0.522\n",
       "Kurtosis:                       3.136   Cond. No.                     4.21e+03\n",
       "==============================================================================\n",
       "\n",
       "Notes:\n",
       "[1] Standard Errors assume that the covariance matrix of the errors is correctly specified.\n",
       "[2] The condition number is large, 4.21e+03. This might indicate that there are\n",
       "strong multicollinearity or other numerical problems.\n",
       "\"\"\""
      ]
     },
     "execution_count": 35,
     "metadata": {},
     "output_type": "execute_result"
    }
   ],
   "source": [
    "from sklearn.model_selection import train_test_split\n",
    "\n",
    "df_train,df_test = train_test_split(df,train_size=0.8,random_state=63)\n",
    "\n",
    "import statsmodels.formula.api as smf\n",
    "model1 = smf.ols(\"y_train~x_train\",data=df_train).fit()\n",
    "model1.summary()"
   ]
  },
  {
   "cell_type": "markdown",
   "id": "5d5b3937-295e-4817-9484-774763063354",
   "metadata": {},
   "source": [
    "the column no of employes is having the p value more than 0.05\n"
   ]
  },
  {
   "cell_type": "code",
   "execution_count": 37,
   "id": "f644a2d3-1eeb-46f2-a8ee-8101b060d0f6",
   "metadata": {},
   "outputs": [
    {
     "data": {
      "image/png": "[encoded data removed]",
      "text/plain": [
       "<Figure size 640x480 with 7 Axes>"
      ]
     },
     "metadata": {},
     "output_type": "display_data"
    }
   ],
   "source": [
    "import statsmodels.api as sm\n",
    "sm.graphics.plot_partregress_grid(model1)\n",
    "plt.show()"
   ]
  },
  {
   "cell_type": "code",
   "execution_count": null,
   "id": "16976044-c007-4609-9760-3813c88b3bc7",
   "metadata": {},
   "outputs": [],
   "source": []
  },
  {
   "cell_type": "code",
   "execution_count": 38,
   "id": "7ef17b46-52b5-4f9f-877d-d6446e89b201",
   "metadata": {},
   "outputs": [
    {
     "data": {
      "image/png": "[encoded data removed]",
      "text/plain": [
       "<Figure size 640x480 with 1 Axes>"
      ]
     },
     "metadata": {},
     "output_type": "display_data"
    }
   ],
   "source": [
    "import statsmodels.api as sm \n",
    "sm.graphics.influence_plot(model1)\n",
    "plt.show()"
   ]
  },
  {
   "cell_type": "code",
   "execution_count": 39,
   "id": "88a43991-fe88-4fad-880f-a52501a1a802",
   "metadata": {},
   "outputs": [
    {
     "name": "stdout",
     "output_type": "stream",
     "text": [
      "<class 'pandas.core.frame.DataFrame'>\n",
      "RangeIndex: 1999 entries, 0 to 1998\n",
      "Data columns (total 7 columns):\n",
      " #   Column                       Non-Null Count  Dtype  \n",
      "---  ------                       --------------  -----  \n",
      " 0   Number_of_Customers_Per_Day  1999 non-null   int64  \n",
      " 1   Average_Order_Value          1999 non-null   float64\n",
      " 2   Operating_Hours_Per_Day      1999 non-null   int64  \n",
      " 3   Number_of_Employees          1999 non-null   int64  \n",
      " 4   Marketing_Spend_Per_Day      1999 non-null   float64\n",
      " 5   Location_Foot_Traffic        1999 non-null   int64  \n",
      " 6   Daily_Revenue                1999 non-null   float64\n",
      "dtypes: float64(3), int64(4)\n",
      "memory usage: 109.4 KB\n"
     ]
    }
   ],
   "source": [
    "df.info()"
   ]
  },
  {
   "cell_type": "code",
   "execution_count": 40,
   "id": "f818fa86-ac4c-4483-b85b-43bae7d84417",
   "metadata": {},
   "outputs": [
    {
     "data": {
      "text/html": [
       "<div>\n",
       "<style scoped>\n",
       "    .dataframe tbody tr th:only-of-type {\n",
       "        vertical-align: middle;\n",
       "    }\n",
       "\n",
       "    .dataframe tbody tr th {\n",
       "        vertical-align: top;\n",
       "    }\n",
       "\n",
       "    .dataframe thead th {\n",
       "        text-align: right;\n",
       "    }\n",
       "</style>\n",
       "<table border=\"1\" class=\"dataframe\">\n",
       "  <thead>\n",
       "    <tr style=\"text-align: right;\">\n",
       "      <th></th>\n",
       "      <th>Number_of_Customers_Per_Day</th>\n",
       "      <th>Average_Order_Value</th>\n",
       "      <th>Operating_Hours_Per_Day</th>\n",
       "      <th>Number_of_Employees</th>\n",
       "      <th>Marketing_Spend_Per_Day</th>\n",
       "      <th>Location_Foot_Traffic</th>\n",
       "      <th>Daily_Revenue</th>\n",
       "    </tr>\n",
       "  </thead>\n",
       "  <tbody>\n",
       "    <tr>\n",
       "      <th>0</th>\n",
       "      <td>152</td>\n",
       "      <td>6.74</td>\n",
       "      <td>14</td>\n",
       "      <td>4</td>\n",
       "      <td>106.62</td>\n",
       "      <td>97</td>\n",
       "      <td>1547.81</td>\n",
       "    </tr>\n",
       "    <tr>\n",
       "      <th>1</th>\n",
       "      <td>485</td>\n",
       "      <td>4.50</td>\n",
       "      <td>12</td>\n",
       "      <td>8</td>\n",
       "      <td>57.83</td>\n",
       "      <td>744</td>\n",
       "      <td>2084.68</td>\n",
       "    </tr>\n",
       "    <tr>\n",
       "      <th>2</th>\n",
       "      <td>398</td>\n",
       "      <td>9.09</td>\n",
       "      <td>6</td>\n",
       "      <td>6</td>\n",
       "      <td>91.76</td>\n",
       "      <td>636</td>\n",
       "      <td>3118.39</td>\n",
       "    </tr>\n",
       "    <tr>\n",
       "      <th>3</th>\n",
       "      <td>320</td>\n",
       "      <td>8.48</td>\n",
       "      <td>17</td>\n",
       "      <td>4</td>\n",
       "      <td>462.63</td>\n",
       "      <td>770</td>\n",
       "      <td>2912.20</td>\n",
       "    </tr>\n",
       "    <tr>\n",
       "      <th>4</th>\n",
       "      <td>156</td>\n",
       "      <td>7.44</td>\n",
       "      <td>17</td>\n",
       "      <td>2</td>\n",
       "      <td>412.52</td>\n",
       "      <td>232</td>\n",
       "      <td>1663.42</td>\n",
       "    </tr>\n",
       "    <tr>\n",
       "      <th>...</th>\n",
       "      <td>...</td>\n",
       "      <td>...</td>\n",
       "      <td>...</td>\n",
       "      <td>...</td>\n",
       "      <td>...</td>\n",
       "      <td>...</td>\n",
       "      <td>...</td>\n",
       "    </tr>\n",
       "    <tr>\n",
       "      <th>1994</th>\n",
       "      <td>372</td>\n",
       "      <td>6.41</td>\n",
       "      <td>11</td>\n",
       "      <td>4</td>\n",
       "      <td>466.11</td>\n",
       "      <td>913</td>\n",
       "      <td>2816.85</td>\n",
       "    </tr>\n",
       "    <tr>\n",
       "      <th>1995</th>\n",
       "      <td>105</td>\n",
       "      <td>3.01</td>\n",
       "      <td>11</td>\n",
       "      <td>7</td>\n",
       "      <td>12.62</td>\n",
       "      <td>235</td>\n",
       "      <td>337.97</td>\n",
       "    </tr>\n",
       "    <tr>\n",
       "      <th>1996</th>\n",
       "      <td>89</td>\n",
       "      <td>5.28</td>\n",
       "      <td>16</td>\n",
       "      <td>9</td>\n",
       "      <td>376.64</td>\n",
       "      <td>310</td>\n",
       "      <td>951.34</td>\n",
       "    </tr>\n",
       "    <tr>\n",
       "      <th>1997</th>\n",
       "      <td>403</td>\n",
       "      <td>9.41</td>\n",
       "      <td>7</td>\n",
       "      <td>12</td>\n",
       "      <td>452.49</td>\n",
       "      <td>577</td>\n",
       "      <td>4266.21</td>\n",
       "    </tr>\n",
       "    <tr>\n",
       "      <th>1998</th>\n",
       "      <td>89</td>\n",
       "      <td>6.88</td>\n",
       "      <td>13</td>\n",
       "      <td>14</td>\n",
       "      <td>78.46</td>\n",
       "      <td>322</td>\n",
       "      <td>914.24</td>\n",
       "    </tr>\n",
       "  </tbody>\n",
       "</table>\n",
       "<p>1999 rows × 7 columns</p>\n",
       "</div>"
      ],
      "text/plain": [
       "      Number_of_Customers_Per_Day  Average_Order_Value  \\\n",
       "0                             152                 6.74   \n",
       "1                             485                 4.50   \n",
       "2                             398                 9.09   \n",
       "3                             320                 8.48   \n",
       "4                             156                 7.44   \n",
       "...                           ...                  ...   \n",
       "1994                          372                 6.41   \n",
       "1995                          105                 3.01   \n",
       "1996                           89                 5.28   \n",
       "1997                          403                 9.41   \n",
       "1998                           89                 6.88   \n",
       "\n",
       "      Operating_Hours_Per_Day  Number_of_Employees  Marketing_Spend_Per_Day  \\\n",
       "0                          14                    4                   106.62   \n",
       "1                          12                    8                    57.83   \n",
       "2                           6                    6                    91.76   \n",
       "3                          17                    4                   462.63   \n",
       "4                          17                    2                   412.52   \n",
       "...                       ...                  ...                      ...   \n",
       "1994                       11                    4                   466.11   \n",
       "1995                       11                    7                    12.62   \n",
       "1996                       16                    9                   376.64   \n",
       "1997                        7                   12                   452.49   \n",
       "1998                       13                   14                    78.46   \n",
       "\n",
       "      Location_Foot_Traffic  Daily_Revenue  \n",
       "0                        97        1547.81  \n",
       "1                       744        2084.68  \n",
       "2                       636        3118.39  \n",
       "3                       770        2912.20  \n",
       "4                       232        1663.42  \n",
       "...                     ...            ...  \n",
       "1994                    913        2816.85  \n",
       "1995                    235         337.97  \n",
       "1996                    310         951.34  \n",
       "1997                    577        4266.21  \n",
       "1998                    322         914.24  \n",
       "\n",
       "[1999 rows x 7 columns]"
      ]
     },
     "execution_count": 40,
     "metadata": {},
     "output_type": "execute_result"
    }
   ],
   "source": [
    "df"
   ]
  },
  {
   "cell_type": "code",
   "execution_count": 41,
   "id": "1b187a1e-4ddc-4a75-9ec0-e696bf224b1b",
   "metadata": {},
   "outputs": [],
   "source": [
    "x=df.drop(columns=[\"Daily_Revenue\"])\n",
    "y=df[\"Daily_Revenue\"]"
   ]
  },
  {
   "cell_type": "code",
   "execution_count": 42,
   "id": "6ce5091f-cac0-4ed7-b9d8-ced9e420fd86",
   "metadata": {},
   "outputs": [],
   "source": [
    "from sklearn.model_selection import train_test_split\n",
    "x_train,x_test,y_train,y_test = train_test_split(x,y,test_size=0.2,random_state=63)\n"
   ]
  },
  {
   "cell_type": "code",
   "execution_count": 43,
   "id": "65913b61-b75e-4359-9ef2-fab109255cfa",
   "metadata": {},
   "outputs": [
    {
     "name": "stdout",
     "output_type": "stream",
     "text": [
      "intercept : -1504.5481172157426\n",
      "coefficients : [ 5.62171181e+00  2.40792370e+02 -1.88717649e+00 -1.06695066e+00\n",
      "  1.56605413e+00  2.35854732e-02]\n"
     ]
    }
   ],
   "source": [
    "from sklearn.linear_model import LinearRegression\n",
    "model = LinearRegression()\n",
    "model.fit(x_train,y_train)\n",
    "\n",
    "print(\"intercept :\",model.intercept_)\n",
    "print(\"coefficients :\",model.coef_)\n"
   ]
  },
  {
   "cell_type": "code",
   "execution_count": 44,
   "id": "e0ae64f9-d69b-42ff-a4f6-675ad4c58b85",
   "metadata": {},
   "outputs": [
    {
     "name": "stdout",
     "output_type": "stream",
     "text": [
      "train rmse 315.36557471029874\n",
      "r2 value 0.8964078387998379\n",
      "cv score 0.8945373511611463\n",
      "test r2 0.8687361581506137\n"
     ]
    }
   ],
   "source": [
    "ypred_train=model.predict(x_train)\n",
    "\n",
    "from sklearn.metrics import mean_squared_error\n",
    "print(\"train rmse\",np.sqrt(mean_squared_error(y_train,ypred_train)))\n",
    "\n",
    "from sklearn.metrics import r2_score\n",
    "print(\"r2 value\",r2_score(y_train,ypred_train))\n",
    "\n",
    "from sklearn.model_selection import cross_val_score\n",
    "print(\"cv score\",cross_val_score(model,x_train,y_train,cv=5,scoring=\"r2\").mean())\n",
    "\n",
    "ypred_test = model.predict(x_test)\n",
    "\n",
    "from sklearn.metrics import r2_score\n",
    "print(\"test r2\",r2_score(y_test,ypred_test))"
   ]
  },
  {
   "cell_type": "code",
   "execution_count": null,
   "id": "46112db9-f3fb-47c1-8077-a629a07a3799",
   "metadata": {},
   "outputs": [],
   "source": []
  },
  {
   "cell_type": "code",
   "execution_count": 134,
   "id": "e555aa59-3659-493a-b60e-2fbbc9dc608a",
   "metadata": {},
   "outputs": [],
   "source": [
    "import pandas as pd\n",
    "\n",
    "new_data = pd.DataFrame([{\n",
    "    'Number_of_Customers_Per_Day': 120,\n",
    "    'Average_Order_Value': 350,\n",
    "    'Operating_Hours_Per_Day': 12,\n",
    "    'Number_of_Employees': 8,\n",
    "    'Marketing_Spend_Per_Day': 2000,\n",
    "    'Location_Foot_Traffic': 900\n",
    "}])\n"
   ]
  },
  {
   "cell_type": "code",
   "execution_count": 136,
   "id": "80b97e1e-acda-4b8d-b6b7-ed159d93dcca",
   "metadata": {},
   "outputs": [
    {
     "data": {
      "text/html": [
       "<div>\n",
       "<style scoped>\n",
       "    .dataframe tbody tr th:only-of-type {\n",
       "        vertical-align: middle;\n",
       "    }\n",
       "\n",
       "    .dataframe tbody tr th {\n",
       "        vertical-align: top;\n",
       "    }\n",
       "\n",
       "    .dataframe thead th {\n",
       "        text-align: right;\n",
       "    }\n",
       "</style>\n",
       "<table border=\"1\" class=\"dataframe\">\n",
       "  <thead>\n",
       "    <tr style=\"text-align: right;\">\n",
       "      <th></th>\n",
       "      <th>Number_of_Customers_Per_Day</th>\n",
       "      <th>Average_Order_Value</th>\n",
       "      <th>Operating_Hours_Per_Day</th>\n",
       "      <th>Number_of_Employees</th>\n",
       "      <th>Marketing_Spend_Per_Day</th>\n",
       "      <th>Location_Foot_Traffic</th>\n",
       "    </tr>\n",
       "  </thead>\n",
       "  <tbody>\n",
       "    <tr>\n",
       "      <th>0</th>\n",
       "      <td>120</td>\n",
       "      <td>350</td>\n",
       "      <td>12</td>\n",
       "      <td>8</td>\n",
       "      <td>2000</td>\n",
       "      <td>900</td>\n",
       "    </tr>\n",
       "  </tbody>\n",
       "</table>\n",
       "</div>"
      ],
      "text/plain": [
       "   Number_of_Customers_Per_Day  Average_Order_Value  Operating_Hours_Per_Day  \\\n",
       "0                          120                  350                       12   \n",
       "\n",
       "   Number_of_Employees  Marketing_Spend_Per_Day  Location_Foot_Traffic  \n",
       "0                    8                     2000                    900  "
      ]
     },
     "execution_count": 136,
     "metadata": {},
     "output_type": "execute_result"
    }
   ],
   "source": [
    "new_data"
   ]
  },
  {
   "cell_type": "code",
   "execution_count": 138,
   "id": "2c1ed6a7-7d06-489b-af82-c55cada370e4",
   "metadata": {},
   "outputs": [
    {
     "data": {
      "text/html": [
       "<div>\n",
       "<style scoped>\n",
       "    .dataframe tbody tr th:only-of-type {\n",
       "        vertical-align: middle;\n",
       "    }\n",
       "\n",
       "    .dataframe tbody tr th {\n",
       "        vertical-align: top;\n",
       "    }\n",
       "\n",
       "    .dataframe thead th {\n",
       "        text-align: right;\n",
       "    }\n",
       "</style>\n",
       "<table border=\"1\" class=\"dataframe\">\n",
       "  <thead>\n",
       "    <tr style=\"text-align: right;\">\n",
       "      <th></th>\n",
       "      <th>Number_of_Customers_Per_Day</th>\n",
       "      <th>Average_Order_Value</th>\n",
       "      <th>Operating_Hours_Per_Day</th>\n",
       "      <th>Number_of_Employees</th>\n",
       "      <th>Marketing_Spend_Per_Day</th>\n",
       "      <th>Location_Foot_Traffic</th>\n",
       "    </tr>\n",
       "  </thead>\n",
       "  <tbody>\n",
       "    <tr>\n",
       "      <th>0</th>\n",
       "      <td>152</td>\n",
       "      <td>6.74</td>\n",
       "      <td>14</td>\n",
       "      <td>4</td>\n",
       "      <td>106.62</td>\n",
       "      <td>97</td>\n",
       "    </tr>\n",
       "  </tbody>\n",
       "</table>\n",
       "</div>"
      ],
      "text/plain": [
       "   Number_of_Customers_Per_Day  Average_Order_Value  Operating_Hours_Per_Day  \\\n",
       "0                          152                 6.74                       14   \n",
       "\n",
       "   Number_of_Employees  Marketing_Spend_Per_Day  Location_Foot_Traffic  \n",
       "0                    4                   106.62                     97  "
      ]
     },
     "execution_count": 138,
     "metadata": {},
     "output_type": "execute_result"
    }
   ],
   "source": [
    "x.head(1)"
   ]
  },
  {
   "cell_type": "code",
   "execution_count": 142,
   "id": "c9ef1071-f8a5-4f94-b630-8deb66d5c19a",
   "metadata": {},
   "outputs": [
    {
     "name": "stdout",
     "output_type": "stream",
     "text": [
      "Predicted value: 85040.73612176217\n"
     ]
    }
   ],
   "source": [
    "\n",
    "\n",
    "prediction = model.predict(new_data)\n",
    "print(\"Predicted value:\", prediction[0])\n"
   ]
  },
  {
   "cell_type": "code",
   "execution_count": null,
   "id": "1434583b-88cf-44b8-83d8-c5750c091447",
   "metadata": {},
   "outputs": [],
   "source": []
  }
 ],
 "metadata": {
  "kernelspec": {
   "display_name": "Python 3 (ipykernel)",
   "language": "python",
   "name": "python3"
  },
  "language_info": {
   "codemirror_mode": {
    "name": "ipython",
    "version": 3
   },
   "file_extension": ".py",
   "mimetype": "text/x-python",
   "name": "python",
   "nbconvert_exporter": "python",
   "pygments_lexer": "ipython3",
   "version": "3.12.4"
  }
 },
 "nbformat": 4,
 "nbformat_minor": 5
}
